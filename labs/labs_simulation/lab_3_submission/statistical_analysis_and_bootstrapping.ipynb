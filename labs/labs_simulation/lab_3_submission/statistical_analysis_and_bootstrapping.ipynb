{
 "cells": [
  {
   "cell_type": "code",
   "execution_count": 1,
   "metadata": {},
   "outputs": [],
   "source": [
    "import numpy as np\n",
    "import matplotlib.pyplot as plt\n",
    "from discrete_events_simulation import Scenario, simulate #Import your solution from the previous lab."
   ]
  },
  {
   "cell_type": "markdown",
   "metadata": {},
   "source": [
    "# Statistical analysis\n",
    "## Moving mean and variance"
   ]
  },
  {
   "cell_type": "code",
   "execution_count": 2,
   "metadata": {},
   "outputs": [],
   "source": [
    "def moving_mean_var(new_data, old_mean, old_var, t):\n",
    "    \"\"\" Calculates moving sameple mean and variance at time t.\n",
    "    \n",
    "    Keywords:\n",
    "        new_data (float): new data point arriving at time t.\n",
    "        old_mean (float): previous sample mean.\n",
    "        old_var (float): previous sample variance.\n",
    "        t (int): time index\n",
    "    \n",
    "    Returns:\n",
    "        new_mean (float): updated sample mean.\n",
    "        new_var (float): updated sample variance.\n",
    "    \"\"\"\n",
    "    if t == 1:\n",
    "        new_mean = new_data\n",
    "        new_var = 0\n",
    "    else:\n",
    "        new_mean = old_mean + (new_data - old_mean) / t\n",
    "        new_var = (1 - 1 / (t - 1)) * old_var + t * (new_mean - old_mean)**2\n",
    "    return new_mean, new_var"
   ]
  },
  {
   "cell_type": "markdown",
   "metadata": {},
   "source": [
    "## Queue simulation"
   ]
  },
  {
   "cell_type": "code",
   "execution_count": 3,
   "metadata": {},
   "outputs": [],
   "source": [
    "precision = 0.1\n",
    "max_queue_mean = 0\n",
    "max_queue_var = 0\n",
    "max_queue_all = []\n",
    "max_queue_mean_all = []\n",
    "max_queue_var_all = []\n",
    "t = 0\n",
    "\n",
    "scenario = Scenario()\n",
    "\n",
    "while True: \n",
    "    t += 1\n",
    "    \n",
    "    # Run simulation\n",
    "    _, queues = simulate(scenario)\n",
    "    max_queue = max(queues)\n",
    "    \n",
    "    # Collect statistics\n",
    "    max_queue_mean, max_queue_var = moving_mean_var(max_queue, max_queue_mean, max_queue_var, t)\n",
    "    \n",
    "    \n",
    "    max_queue_all.append(max_queue)\n",
    "    max_queue_mean_all.append(max_queue_mean)\n",
    "    max_queue_var_all.append(max_queue_var)\n",
    "    \n",
    "    # Check if necessary precision reached\n",
    "    if t >= 100 and np.sqrt(max_queue_var / t) < precision:\n",
    "        break"
   ]
  },
  {
   "cell_type": "markdown",
   "metadata": {},
   "source": [
    "Plot the mean maximum queue length and standard deviation"
   ]
  },
  {
   "cell_type": "code",
   "execution_count": 4,
   "metadata": {},
   "outputs": [
    {
     "data": {
      "image/png": "[encoded data removed]",
      "text/plain": [
       "<Figure size 432x288 with 1 Axes>"
      ]
     },
     "metadata": {
      "needs_background": "light"
     },
     "output_type": "display_data"
    }
   ],
   "source": [
    "fig = plt.figure()\n",
    "ax = plt.subplot(1,1,1)\n",
    "\n",
    "ax.plot(max_queue_mean_all, label='Mean')\n",
    "ax.plot(np.sqrt(max_queue_var_all), label='Std. dev.')\n",
    "ax.set(title='Queue simulation',\n",
    "       xlabel='Epoch',\n",
    "       ylabel='Max queue length')\n",
    "ax.legend()\n",
    "plt.show()"
   ]
  },
  {
   "cell_type": "markdown",
   "metadata": {},
   "source": [
    "## Bootstrapping"
   ]
  },
  {
   "cell_type": "code",
   "execution_count": 5,
   "metadata": {},
   "outputs": [],
   "source": [
    "def bootstrap(data, f_statistic, draws):\n",
    "    \"\"\" Calculates the bootstrap mse of a statistic of choice\n",
    "    \n",
    "    Keywords:\n",
    "        data (array): data array.\n",
    "        f_statistic: function handle calculating the statistic of interest.\n",
    "        draws (int): number of bootstrap draws.\n",
    "    \n",
    "    Returns:\n",
    "        mse (float): mean square error of the statistic of interest.\n",
    "    \"\"\"\n",
    "    theta = f_statistic(data)\n",
    "    se = np.zeros((draws, ))\n",
    "    for r in np.arange(draws):\n",
    "        data_draw = np.random.choice(data, size=data.shape[0], replace=True)\n",
    "        theta_emp = f_statistic(data_draw)\n",
    "        se[r] = (theta_emp -  theta)**2\n",
    "    mse = se.mean()\n",
    "    return mse"
   ]
  },
  {
   "cell_type": "code",
   "execution_count": 6,
   "metadata": {},
   "outputs": [],
   "source": [
    "max_queue_all = np.array(max_queue_all)"
   ]
  },
  {
   "cell_type": "markdown",
   "metadata": {},
   "source": [
    "### Mean"
   ]
  },
  {
   "cell_type": "code",
   "execution_count": 7,
   "metadata": {},
   "outputs": [
    {
     "data": {
      "text/plain": [
       "11.41646682653877"
      ]
     },
     "execution_count": 7,
     "metadata": {},
     "output_type": "execute_result"
    }
   ],
   "source": [
    "f_mean = lambda data: data.mean()\n",
    "emp_mean = f_mean(max_queue_all)\n",
    "emp_mean"
   ]
  },
  {
   "cell_type": "code",
   "execution_count": 8,
   "metadata": {},
   "outputs": [
    {
     "data": {
      "text/plain": [
       "0.01007813509384339"
      ]
     },
     "execution_count": 8,
     "metadata": {},
     "output_type": "execute_result"
    }
   ],
   "source": [
    "bootstrap_mean = bootstrap(max_queue_all, f_mean, 1000)\n",
    "bootstrap_mean"
   ]
  },
  {
   "cell_type": "markdown",
   "metadata": {},
   "source": [
    "### 95th Percentile"
   ]
  },
  {
   "cell_type": "code",
   "execution_count": 9,
   "metadata": {},
   "outputs": [
    {
     "data": {
      "text/plain": [
       "22.0"
      ]
     },
     "execution_count": 9,
     "metadata": {},
     "output_type": "execute_result"
    }
   ],
   "source": [
    "f_p95 = lambda data: np.quantile(data, q=0.95)\n",
    "emp_p95 = f_p95(max_queue_all)\n",
    "emp_p95"
   ]
  },
  {
   "cell_type": "code",
   "execution_count": 10,
   "metadata": {},
   "outputs": [
    {
     "data": {
      "text/plain": [
       "0.38311500000000087"
      ]
     },
     "execution_count": 10,
     "metadata": {},
     "output_type": "execute_result"
    }
   ],
   "source": [
    "bootstrap_p95 = bootstrap(max_queue_all, f_p95, 1000)\n",
    "bootstrap_p95"
   ]
  },
  {
   "cell_type": "markdown",
   "metadata": {},
   "source": [
    "### Worst case"
   ]
  },
  {
   "cell_type": "code",
   "execution_count": 11,
   "metadata": {},
   "outputs": [
    {
     "data": {
      "text/plain": [
       "34"
      ]
     },
     "execution_count": 11,
     "metadata": {},
     "output_type": "execute_result"
    }
   ],
   "source": [
    "f_max = lambda data: np.max(data)\n",
    "emp_max = f_max(max_queue_all)\n",
    "emp_max"
   ]
  },
  {
   "cell_type": "code",
   "execution_count": 12,
   "metadata": {},
   "outputs": [
    {
     "data": {
      "text/plain": [
       "1.74"
      ]
     },
     "execution_count": 12,
     "metadata": {},
     "output_type": "execute_result"
    }
   ],
   "source": [
    "bootstrap_max = bootstrap(max_queue_all, f_max, 1000)\n",
    "bootstrap_max"
   ]
  },
  {
   "cell_type": "markdown",
   "metadata": {},
   "source": [
    "#### Plot simulated maximum queue lengths and bootstrapped statistics"
   ]
  },
  {
   "cell_type": "code",
   "execution_count": 13,
   "metadata": {},
   "outputs": [
    {
     "data": {
      "image/png": "[encoded data removed]",
      "text/plain": [
       "<Figure size 432x288 with 1 Axes>"
      ]
     },
     "metadata": {
      "needs_background": "light"
     },
     "output_type": "display_data"
    }
   ],
   "source": [
    "fig = plt.figure()\n",
    "ax = plt.subplot(1,1,1)\n",
    "\n",
    "num_bins = 25\n",
    "n, bins, patches = ax.hist(max_queue_all, num_bins, density=0, label='Draws')\n",
    "ax.axvline(emp_mean, label='Mean', color='r')\n",
    "ax.axvline(emp_p95, label='95th percentile', color='r', linestyle='--')\n",
    "ax.axvline(emp_max, label='Worst Case', color='purple', linestyle='-.')\n",
    "ax.set(title='Queue simulation: Max. queue length',\n",
    "       xlabel= 'Queue length',\n",
    "       ylabel='Frequency')\n",
    "ax.legend()\n",
    "plt.show()"
   ]
  }
 ],
 "metadata": {
  "kernelspec": {
   "display_name": "Python 3",
   "language": "python",
   "name": "python3"
  },
  "language_info": {
   "codemirror_mode": {
    "name": "ipython",
    "version": 3
   },
   "file_extension": ".py",
   "mimetype": "text/x-python",
   "name": "python",
   "nbconvert_exporter": "python",
   "pygments_lexer": "ipython3",
   "version": "3.9.2"
  }
 },
 "nbformat": 4,
 "nbformat_minor": 2
}
