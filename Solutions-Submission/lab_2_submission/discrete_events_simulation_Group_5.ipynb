{
 "cells": [
  {
   "cell_type": "code",
   "execution_count": 1,
   "metadata": {},
   "outputs": [],
   "source": [
    "import numpy as np\n",
    "import matplotlib.pyplot as plt"
   ]
  },
  {
   "cell_type": "markdown",
   "metadata": {},
   "source": [
    "# Queueing simulation\n",
    "## Exponential random draws"
   ]
  },
  {
   "cell_type": "code",
   "execution_count": 2,
   "metadata": {},
   "outputs": [],
   "source": [
    "def exponential_rng(lam=1.0):  \n",
    "    \"\"\" Generates exponential random number.\n",
    "    \n",
    "    Keywords:\n",
    "        lam (float): the rate parameter, the inverse expectation of the distribution.\n",
    "    \n",
    "    Returns:\n",
    "        exponential random number with given rate.\n",
    "    \"\"\"\n",
    "    return -np.log(np.random.rand()) / lam"
   ]
  },
  {
   "cell_type": "markdown",
   "metadata": {},
   "source": [
    "## Define events"
   ]
  },
  {
   "cell_type": "code",
   "execution_count": 3,
   "metadata": {},
   "outputs": [],
   "source": [
    "class Event:\n",
    "    def __init__(self,time):\n",
    "        self.time=time\n",
    "        \n",
    "class Generation(Event):\n",
    "    def __init__(self,time):\n",
    "        super().__init__(time)\n",
    "    \n",
    "class Arrival(Event):\n",
    "    def __init__(self,time):\n",
    "        super().__init__(time)\n",
    "    \n",
    "class Departure(Event):\n",
    "    def __init__(self,time):\n",
    "        super().__init__(time)\n",
    "        \n",
    "class Termination(Event):\n",
    "    def __init__(self,time):\n",
    "        super().__init__(time)"
   ]
  },
  {
   "cell_type": "markdown",
   "metadata": {},
   "source": [
    "## Define scenario"
   ]
  },
  {
   "cell_type": "code",
   "execution_count": 4,
   "metadata": {},
   "outputs": [],
   "source": [
    "class Scenario:\n",
    "    \"\"\" Road scenario\n",
    "    \n",
    "    Attributes:\n",
    "        demand duration (float): Duration of vehicle generation.\n",
    "        t0 (float): Free-flow travel time.\n",
    "        lam (float): Entry rate.\n",
    "        mu (float): Service rate.\n",
    "    \"\"\"\n",
    "    \n",
    "    def __init__(self, \n",
    "                 demand_duration=50.0,\n",
    "                 t0=1.0,\n",
    "                 lam=1.0,\n",
    "                 mu=1.0,\n",
    "                ):\n",
    "        self.demand_duration = demand_duration\n",
    "        self.t0 = t0\n",
    "        self.lam = lam\n",
    "        self.mu = mu"
   ]
  },
  {
   "cell_type": "markdown",
   "metadata": {},
   "source": [
    "## Define simulation procedure"
   ]
  },
  {
   "cell_type": "code",
   "execution_count": 5,
   "metadata": {},
   "outputs": [],
   "source": [
    "def simulate(scenario):\n",
    "    \"\"\" Implements the simulation procedure.\n",
    "    \n",
    "    Keywords:\n",
    "        scenario (Scenario): Road scenario.\n",
    "    \n",
    "    Returns:\n",
    "        times (list): Event times. \n",
    "        queues (list): Queue length over time. \n",
    "    \"\"\"\n",
    "    queue=0\n",
    "    times=[0]\n",
    "    queues=[0]\n",
    "    \n",
    "    generation=Generation(exponential_rng(scenario.lam))\n",
    "    termination=Termination(scenario.demand_duration)\n",
    "    events=[generation,termination]\n",
    "    \n",
    "    while len(events):\n",
    "        e=events[0]\n",
    "        \n",
    "        if isinstance(e,Generation):\n",
    "            arrival=Arrival(e.time+scenario.t0*np.random.rand())\n",
    "            events.append(arrival)    \n",
    "            next_generation_time=e.time+exponential_rng(scenario.lam)\n",
    "            \n",
    "            if next_generation_time<scenario.demand_duration:\n",
    "                generation=Generation(next_generation_time)\n",
    "                events.append(generation)\n",
    "        \n",
    "        elif isinstance(e,Arrival):\n",
    "            times.append(e.time)\n",
    "            queue+=1\n",
    "            queues.append(queue)\n",
    "            \n",
    "            if queue==1:\n",
    "                departure=Departure(e.time+exponential_rng(scenario.mu))\n",
    "                events.append(departure)\n",
    "        \n",
    "        elif isinstance(e,Departure):\n",
    "            times.append(e.time)\n",
    "            queue-=1\n",
    "            queues.append(queue)\n",
    "            \n",
    "            if queue:\n",
    "                departure=Departure(e.time+exponential_rng(scenario.mu))\n",
    "                events.append(departure)\n",
    "                \n",
    "        elif isinstance(e,Termination):\n",
    "            print(f'End of generation')\n",
    "        \n",
    "        events.pop(0)\n",
    "        events.sort(key=lambda event:event.time)\n",
    "        \n",
    "    return times, queues"
   ]
  },
  {
   "cell_type": "markdown",
   "metadata": {},
   "source": [
    "## Run simulation"
   ]
  },
  {
   "cell_type": "code",
   "execution_count": 6,
   "metadata": {},
   "outputs": [
    {
     "name": "stdout",
     "output_type": "stream",
     "text": [
      "End of generation\n"
     ]
    }
   ],
   "source": [
    "#%timeit\n",
    "times, queues = simulate(Scenario())"
   ]
  },
  {
   "cell_type": "markdown",
   "metadata": {},
   "source": [
    "## Repeat the simulation multiple times"
   ]
  },
  {
   "cell_type": "code",
   "execution_count": 7,
   "metadata": {},
   "outputs": [
    {
     "name": "stdout",
     "output_type": "stream",
     "text": [
      "End of generation\n",
      "End of generation\n",
      "End of generation\n"
     ]
    }
   ],
   "source": [
    "D = 3\n",
    "times_queues = [simulate(Scenario()) for d in range(D)]"
   ]
  },
  {
   "cell_type": "code",
   "execution_count": 8,
   "metadata": {},
   "outputs": [
    {
     "data": {
      "image/png": "[encoded data removed]",
      "text/plain": [
       "<Figure size 432x288 with 1 Axes>"
      ]
     },
     "metadata": {
      "needs_background": "light"
     },
     "output_type": "display_data"
    }
   ],
   "source": [
    "fig = plt.figure()\n",
    "ax = plt.subplot(1,1,1)\n",
    "\n",
    "for t, q in times_queues:\n",
    "    ax.plot(t, q)\n",
    "ax.set(title='Queue simulation',\n",
    "       xlabel='Time',\n",
    "       ylabel='Queue length')\n",
    "fig.savefig('figure_queue_simulation.pdf', dpi=300)\n",
    "plt.show()"
   ]
  }
 ],
 "metadata": {
  "kernelspec": {
   "display_name": "Python 3",
   "language": "python",
   "name": "python3"
  },
  "language_info": {
   "codemirror_mode": {
    "name": "ipython",
    "version": 3
   },
   "file_extension": ".py",
   "mimetype": "text/x-python",
   "name": "python",
   "nbconvert_exporter": "python",
   "pygments_lexer": "ipython3",
   "version": "3.9.2"
  }
 },
 "nbformat": 4,
 "nbformat_minor": 2
}
