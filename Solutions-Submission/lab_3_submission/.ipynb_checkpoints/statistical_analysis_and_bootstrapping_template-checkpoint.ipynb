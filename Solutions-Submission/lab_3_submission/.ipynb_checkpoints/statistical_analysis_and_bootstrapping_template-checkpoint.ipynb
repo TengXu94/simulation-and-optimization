{
 "cells": [
  {
   "cell_type": "code",
<<<<<<< HEAD
   "execution_count": 1,
   "metadata": {},
   "outputs": [],
=======
   "execution_count": 4,
   "metadata": {},
   "outputs": [
    {
     "name": "stdout",
     "output_type": "stream",
     "text": [
      "Collecting numpy\n",
      "  Downloading numpy-1.20.2-cp39-cp39-macosx_10_9_x86_64.whl (16.1 MB)\n",
      "\u001b[K     |████████████████████████████████| 16.1 MB 21.8 MB/s eta 0:00:01\n",
      "\u001b[?25hInstalling collected packages: numpy\n",
      "Successfully installed numpy-1.20.2\n"
     ]
    }
   ],
   "source": []
  },
  {
   "cell_type": "code",
   "execution_count": 5,
   "metadata": {},
   "outputs": [
    {
     "ename": "ModuleNotFoundError",
     "evalue": "No module named 'numpy'",
     "output_type": "error",
     "traceback": [
      "\u001b[0;31m---------------------------------------------------------------------------\u001b[0m",
      "\u001b[0;31mModuleNotFoundError\u001b[0m                       Traceback (most recent call last)",
      "\u001b[0;32m<ipython-input-5-19e404c2f851>\u001b[0m in \u001b[0;36m<module>\u001b[0;34m\u001b[0m\n\u001b[0;32m----> 1\u001b[0;31m \u001b[0;32mimport\u001b[0m \u001b[0mnumpy\u001b[0m \u001b[0;32mas\u001b[0m \u001b[0mnp\u001b[0m\u001b[0;34m\u001b[0m\u001b[0;34m\u001b[0m\u001b[0m\n\u001b[0m\u001b[1;32m      2\u001b[0m \u001b[0;32mimport\u001b[0m \u001b[0mmatplotlib\u001b[0m\u001b[0;34m.\u001b[0m\u001b[0mpyplot\u001b[0m \u001b[0;32mas\u001b[0m \u001b[0mplt\u001b[0m\u001b[0;34m\u001b[0m\u001b[0;34m\u001b[0m\u001b[0m\n\u001b[1;32m      3\u001b[0m \u001b[0;32mfrom\u001b[0m \u001b[0mdiscrete_events_simulation\u001b[0m \u001b[0;32mimport\u001b[0m \u001b[0mScenario\u001b[0m\u001b[0;34m,\u001b[0m \u001b[0msimulate\u001b[0m \u001b[0;31m#Import your solution from the previous lab.\u001b[0m\u001b[0;34m\u001b[0m\u001b[0;34m\u001b[0m\u001b[0m\n",
      "\u001b[0;31mModuleNotFoundError\u001b[0m: No module named 'numpy'"
     ]
    }
   ],
>>>>>>> 8450385ed2fd7b715a5c8741f6c327e356ddd04a
   "source": [
    "import numpy as np\n",
    "import matplotlib.pyplot as plt\n",
    "from discrete_events_simulation import Scenario, simulate #Import your solution from the previous lab."
   ]
  },
  {
   "cell_type": "markdown",
   "metadata": {},
   "source": [
    "# Statistical analysis\n",
    "## Moving mean and variance"
   ]
  },
  {
   "cell_type": "code",
<<<<<<< HEAD
   "execution_count": 2,
=======
   "execution_count": null,
>>>>>>> 8450385ed2fd7b715a5c8741f6c327e356ddd04a
   "metadata": {},
   "outputs": [],
   "source": [
    "def moving_mean_var(new_data, old_mean, old_var, t):\n",
    "    \"\"\" Calculates moving sameple mean and variance at time t.\n",
    "    \n",
    "    Keywords:\n",
    "        new_data (float): new data point arriving at time t.\n",
    "        old_mean (float): previous sample mean.\n",
    "        old_var (float): previous sample variance.\n",
    "        t (int): time index\n",
    "    \n",
    "    Returns:\n",
    "        new_mean (float): updated sample mean.\n",
    "        new_var (float): updated sample variance.\n",
    "    \"\"\"\n",
    "    if t == 1:\n",
    "        new_mean = new_data\n",
    "        new_var = 0\n",
    "    else:\n",
    "        new_mean = old_mean + (new_data - old_mean) / t\n",
    "        new_var = (1 - 1 / (t - 1)) * old_var + t * (new_mean - old_mean)**2\n",
    "    return new_mean, new_var"
   ]
  },
  {
   "cell_type": "markdown",
   "metadata": {},
   "source": [
    "## Queue simulation"
   ]
  },
  {
   "cell_type": "code",
<<<<<<< HEAD
   "execution_count": 3,
=======
   "execution_count": null,
>>>>>>> 8450385ed2fd7b715a5c8741f6c327e356ddd04a
   "metadata": {},
   "outputs": [],
   "source": [
    "precision = 0.1\n",
    "max_queue_mean = 0\n",
    "max_queue_var = 0\n",
    "max_queue_all = []\n",
    "max_queue_mean_all = []\n",
    "max_queue_var_all = []\n",
    "t = 0\n",
    "\n",
    "scenario = Scenario()\n",
    "\n",
    "while True: \n",
    "    t += 1\n",
    "    \n",
    "    # Run simulation\n",
    "    _, queues = simulate(scenario)\n",
    "    max_queue = max(queues)\n",
    "    \n",
    "    # Collect statistics\n",
    "    max_queue_mean, max_queue_var = moving_mean_var(max_queue, max_queue_mean, max_queue_var, t)\n",
    "    max_queue_all.append(max_queue)\n",
    "    max_queue_mean_all.append(max_queue_mean)\n",
    "    max_queue_var_all.append(max_queue_var)\n",
    "    \n",
    "    # Check if necessary precision reached\n",
    "    if t >= 100 and np.sqrt(max_queue_var / t) < precision:\n",
    "        break"
   ]
  },
  {
   "cell_type": "markdown",
   "metadata": {},
   "source": [
    "Plot the mean maximum queue length and standard deviation"
   ]
  },
  {
   "cell_type": "code",
<<<<<<< HEAD
   "execution_count": 4,
   "metadata": {},
   "outputs": [
    {
     "data": {
      "image/png": "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\n",
      "text/plain": [
       "<Figure size 432x288 with 1 Axes>"
      ]
     },
     "metadata": {
      "needs_background": "light"
     },
     "output_type": "display_data"
    }
   ],
=======
   "execution_count": null,
   "metadata": {},
   "outputs": [],
>>>>>>> 8450385ed2fd7b715a5c8741f6c327e356ddd04a
   "source": [
    "fig = plt.figure()\n",
    "ax = plt.subplot(1,1,1)\n",
    "\n",
    "ax.plot(max_queue_mean_all, label='Mean')\n",
    "ax.plot(np.sqrt(max_queue_var_all), label='Std. dev.')\n",
    "ax.set(title='Queue simulation',\n",
    "       xlabel='Epoch',\n",
    "       ylabel='Max queue length')\n",
    "ax.legend()\n",
    "plt.show()"
   ]
  },
  {
   "cell_type": "markdown",
   "metadata": {},
   "source": [
    "## Bootstrapping"
   ]
  },
  {
   "cell_type": "code",
<<<<<<< HEAD
   "execution_count": 5,
=======
   "execution_count": null,
>>>>>>> 8450385ed2fd7b715a5c8741f6c327e356ddd04a
   "metadata": {},
   "outputs": [],
   "source": [
    "def bootstrap(data, f_statistic, draws):\n",
    "    \"\"\" Calculates the bootstrap mse of a statistic of choice\n",
    "    \n",
    "    Keywords:\n",
    "        data (array): data array.\n",
    "        f_statistic: function handle calculating the statistic of interest.\n",
    "        draws (int): number of bootstrap draws.\n",
    "    \n",
    "    Returns:\n",
    "        mse (float): mean square error of the statistic of interest.\n",
    "    \"\"\"\n",
    "    theta = f_statistic(data)\n",
    "    se = np.zeros((draws, ))\n",
    "    for r in np.arange(draws):\n",
    "        data_draw = np.random.choice(data, size=data.shape[0], replace=True)\n",
    "        theta_emp = f_statistic(data_draw)\n",
    "        se[r] = (theta_emp -  theta)**2\n",
    "    mse = se.mean()\n",
    "    return mse"
   ]
  },
  {
   "cell_type": "code",
<<<<<<< HEAD
   "execution_count": 6,
=======
   "execution_count": null,
>>>>>>> 8450385ed2fd7b715a5c8741f6c327e356ddd04a
   "metadata": {},
   "outputs": [],
   "source": [
    "max_queue_all = np.array(max_queue_all)"
   ]
  },
  {
   "cell_type": "markdown",
   "metadata": {},
   "source": [
    "### Mean"
   ]
  },
  {
   "cell_type": "code",
<<<<<<< HEAD
   "execution_count": 7,
   "metadata": {},
   "outputs": [
    {
     "data": {
      "text/plain": [
       "11.660482374768089"
      ]
     },
     "execution_count": 7,
     "metadata": {},
     "output_type": "execute_result"
    }
   ],
=======
   "execution_count": null,
   "metadata": {},
   "outputs": [],
>>>>>>> 8450385ed2fd7b715a5c8741f6c327e356ddd04a
   "source": [
    "f_mean = lambda data: data.mean()\n",
    "emp_mean = f_mean(max_queue_all)\n",
    "emp_mean"
   ]
  },
  {
   "cell_type": "code",
<<<<<<< HEAD
   "execution_count": 8,
   "metadata": {},
   "outputs": [
    {
     "data": {
      "text/plain": [
       "0.009913174882366508"
      ]
     },
     "execution_count": 8,
     "metadata": {},
     "output_type": "execute_result"
    }
   ],
=======
   "execution_count": null,
   "metadata": {},
   "outputs": [],
>>>>>>> 8450385ed2fd7b715a5c8741f6c327e356ddd04a
   "source": [
    "bootstrap_mean = bootstrap(max_queue_all, f_mean, 1000)\n",
    "bootstrap_mean"
   ]
  },
  {
   "cell_type": "markdown",
   "metadata": {},
   "source": [
    "### 95th Percentile"
   ]
  },
  {
   "cell_type": "code",
<<<<<<< HEAD
   "execution_count": 9,
   "metadata": {},
   "outputs": [
    {
     "data": {
      "text/plain": [
       "22.0"
      ]
     },
     "execution_count": 9,
     "metadata": {},
     "output_type": "execute_result"
    }
   ],
=======
   "execution_count": null,
   "metadata": {},
   "outputs": [],
>>>>>>> 8450385ed2fd7b715a5c8741f6c327e356ddd04a
   "source": [
    "f_p95 = lambda data: np.quantile(data, q=0.95)\n",
    "emp_p95 = f_p95(max_queue_all)\n",
    "emp_p95"
   ]
  },
  {
   "cell_type": "code",
<<<<<<< HEAD
   "execution_count": 10,
   "metadata": {},
   "outputs": [
    {
     "data": {
      "text/plain": [
       "0.28480000000001415"
      ]
     },
     "execution_count": 10,
     "metadata": {},
     "output_type": "execute_result"
    }
   ],
=======
   "execution_count": null,
   "metadata": {},
   "outputs": [],
>>>>>>> 8450385ed2fd7b715a5c8741f6c327e356ddd04a
   "source": [
    "bootstrap_p95 = bootstrap(max_queue_all, f_p95, 1000)\n",
    "bootstrap_p95"
   ]
  },
  {
   "cell_type": "markdown",
   "metadata": {},
   "source": [
    "### Worst case"
   ]
  },
  {
   "cell_type": "code",
<<<<<<< HEAD
   "execution_count": 11,
   "metadata": {},
   "outputs": [
    {
     "data": {
      "text/plain": [
       "42"
      ]
     },
     "execution_count": 11,
     "metadata": {},
     "output_type": "execute_result"
    }
   ],
=======
   "execution_count": null,
   "metadata": {},
   "outputs": [],
>>>>>>> 8450385ed2fd7b715a5c8741f6c327e356ddd04a
   "source": [
    "f_max = lambda data: np.max(data)\n",
    "emp_max = f_max(max_queue_all)\n",
    "emp_max"
   ]
  },
  {
   "cell_type": "code",
<<<<<<< HEAD
   "execution_count": 12,
   "metadata": {},
   "outputs": [
    {
     "data": {
      "text/plain": [
       "12.596"
      ]
     },
     "execution_count": 12,
     "metadata": {},
     "output_type": "execute_result"
    }
   ],
=======
   "execution_count": null,
   "metadata": {},
   "outputs": [],
>>>>>>> 8450385ed2fd7b715a5c8741f6c327e356ddd04a
   "source": [
    "bootstrap_max = bootstrap(max_queue_all, f_max, 1000)\n",
    "bootstrap_max"
   ]
  },
  {
   "cell_type": "markdown",
   "metadata": {},
   "source": [
    "#### Plot simulated maximum queue lengths and bootstrapped statistics"
   ]
  },
  {
   "cell_type": "code",
<<<<<<< HEAD
   "execution_count": 13,
   "metadata": {},
   "outputs": [
    {
     "data": {
      "image/png": "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\n",
      "text/plain": [
       "<Figure size 432x288 with 1 Axes>"
      ]
     },
     "metadata": {
      "needs_background": "light"
     },
     "output_type": "display_data"
    }
   ],
=======
   "execution_count": null,
   "metadata": {},
   "outputs": [],
>>>>>>> 8450385ed2fd7b715a5c8741f6c327e356ddd04a
   "source": [
    "fig = plt.figure()\n",
    "ax = plt.subplot(1,1,1)\n",
    "\n",
    "num_bins = 25\n",
    "n, bins, patches = ax.hist(max_queue_all, num_bins, density=0, label='Draws')\n",
    "ax.axvline(emp_mean, label='Mean', color='r')\n",
    "ax.axvline(emp_p95, label='95th percentile', color='r', linestyle='--')\n",
    "ax.axvline(emp_max, label='Worst Case', color='purple', linestyle='-.')\n",
    "ax.set(title='Queue simulation: Max. queue length',\n",
    "       xlabel= 'Queue length',\n",
    "       ylabel='Frequency')\n",
    "ax.legend()\n",
    "plt.show()"
   ]
  }
 ],
 "metadata": {
  "kernelspec": {
   "display_name": "Python 3",
   "language": "python",
   "name": "python3"
  },
  "language_info": {
   "codemirror_mode": {
    "name": "ipython",
    "version": 3
   },
   "file_extension": ".py",
   "mimetype": "text/x-python",
   "name": "python",
   "nbconvert_exporter": "python",
   "pygments_lexer": "ipython3",
<<<<<<< HEAD
   "version": "3.8.5"
=======
   "version": "3.9.2"
>>>>>>> 8450385ed2fd7b715a5c8741f6c327e356ddd04a
  }
 },
 "nbformat": 4,
 "nbformat_minor": 2
}
