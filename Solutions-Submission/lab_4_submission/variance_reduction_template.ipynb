{
 "cells": [
  {
   "cell_type": "code",
   "execution_count": 1,
   "metadata": {},
   "outputs": [],
   "source": [
    "import numpy as np\n",
    "import matplotlib.pyplot as plt\n",
    "np.random.seed(4712)"
   ]
  },
  {
   "cell_type": "markdown",
   "metadata": {},
   "source": [
    "# Queueing simulation with antithetic draws"
   ]
  },
  {
   "cell_type": "code",
   "execution_count": 2,
   "metadata": {},
   "outputs": [],
   "source": [
    "def exponential_rng(lam, u):  \n",
    "    \"\"\" Generates exponential random number.\n",
    "    \n",
    "    Keywords:\n",
    "        lam (float): the rate parameter, the inverse expectation of the distribution.\n",
    "        u (float): Uniform random number.\n",
    "    \n",
    "    Returns:\n",
    "        exponential random number with given rate.\n",
    "    \"\"\"\n",
    "    return -np.log(u) / lam"
   ]
  },
  {
   "cell_type": "code",
   "execution_count": 3,
   "metadata": {},
   "outputs": [],
   "source": [
    "class Event:\n",
    "    \"\"\" Generic event.\n",
    "    \n",
    "    Attributes:\n",
    "        time (float): Event time.\n",
    "    \"\"\"\n",
    "    \n",
    "    def __init__(self, time):\n",
    "        self.time = time\n",
    "        \n",
    "class Generation(Event):\n",
    "    \"\"\" Generation event.\n",
    "    \n",
    "    Attributes:\n",
    "        time (float): Event time.\n",
    "    \"\"\"\n",
    "    def __init__(self, time):\n",
    "        super().__init__(time)\n",
    "        \n",
    "class Arrival(Event):\n",
    "    \"\"\" Arrival event.\n",
    "    \n",
    "    Attributes:\n",
    "        time (float): Event time.\n",
    "    \"\"\"\n",
    "    def __init__(self, time):\n",
    "        super().__init__(time)\n",
    "        \n",
    "class Departure(Event):\n",
    "    \"\"\" Departure event.\n",
    "    \n",
    "    Attributes:\n",
    "        time (float): Event time.\n",
    "    \"\"\"\n",
    "    def __init__(self, time):\n",
    "        super().__init__(time)\n",
    "        \n",
    "class Termination(Event):\n",
    "    \"\"\" Termination event.\n",
    "    \n",
    "    Attributes:\n",
    "        time (float): Event time.\n",
    "    \"\"\"\n",
    "    def __init__(self, time):\n",
    "        super().__init__(time)"
   ]
  },
  {
   "cell_type": "code",
   "execution_count": 4,
   "metadata": {},
   "outputs": [],
   "source": [
    "class Scenario:\n",
    "    \"\"\" Road scenario\n",
    "    \n",
    "    Attributes:\n",
    "        demand duration (float): Duration of vehicle generation.\n",
    "        t0 (float): Free-flow travel time.\n",
    "        lam (float): Entry rate.\n",
    "        mu (float): Service rate.\n",
    "    \"\"\"\n",
    "    \n",
    "    def __init__(self, \n",
    "                 demand_duration=50.0,\n",
    "                 t0=1.0,\n",
    "                 lam=1.0,\n",
    "                 mu=1.0,\n",
    "                ):\n",
    "        self.demand_duration = demand_duration\n",
    "        self.t0 = t0\n",
    "        self.lam = lam\n",
    "        self.mu = mu"
   ]
  },
  {
   "cell_type": "code",
   "execution_count": 5,
   "metadata": {},
   "outputs": [],
   "source": [
    "def simulate(scenario, u):\n",
    "    \"\"\" Implements the simulation procedure.\n",
    "    \n",
    "    Keywords:\n",
    "        scenario (Scenario): Road scenario.\n",
    "        u (array): 3 x N array of uniform random numbers, N must be sufficiently large.\n",
    "    \n",
    "    Returns:\n",
    "        times (list): Event times. \n",
    "        queues (list): Queue length over time. \n",
    "    \"\"\"\n",
    "    \n",
    "    # Initialize the simulation\n",
    "    queue = 0\n",
    "    times = [0]\n",
    "    queues = [0]\n",
    "            \n",
    "    i_gen, i_arr, i_dep = 0, 0, 0\n",
    "    \n",
    "    # Trigger the first events\n",
    "    generation = Generation(exponential_rng(scenario.lam, u[0, i_gen]))\n",
    "    i_gen += 1\n",
    "    termination = Termination(scenario.demand_duration)\n",
    "    events = [generation, termination]\n",
    "    \n",
    "    # Main loop\n",
    "    while len(events):\n",
    "        e = events[0]\n",
    "        \n",
    "        if isinstance(e, Generation):\n",
    "            # Schedule arrival of the vehicle\n",
    "            arrival = Arrival(e.time + scenario.t0 * u[1, i_arr])\n",
    "            i_arr += 1\n",
    "            events.append(arrival)\n",
    "            \n",
    "            # Schedule the next generation\n",
    "            next_generation_time = e.time + exponential_rng(scenario.lam, u[0, i_gen])\n",
    "            i_gen += 1\n",
    "            if next_generation_time<scenario.demand_duration:\n",
    "                generation=Generation(next_generation_time)\n",
    "                events.append(generation)\n",
    "\n",
    "        elif isinstance(e,Arrival):\n",
    "            times.append(e.time)\n",
    "            queue+=1\n",
    "            queues.append(queue)\n",
    "            \n",
    "            if queue==1:\n",
    "                departure=Departure(e.time+exponential_rng(scenario.mu, u[2, i_dep]))\n",
    "                i_dep +=1\n",
    "                events.append(departure)\n",
    "        \n",
    "        elif isinstance(e,Departure):\n",
    "            times.append(e.time)\n",
    "            queue-=1\n",
    "            queues.append(queue)\n",
    "            \n",
    "            if queue:\n",
    "                departure=Departure(e.time+exponential_rng(scenario.mu, u[2, i_dep]))\n",
    "                i_dep =+ 1\n",
    "                events.append(departure)\n",
    "                \n",
    "        elif isinstance(e,Termination):\n",
    "            pass\n",
    "            # print(f'End of generation')\n",
    "        \n",
    "        events.pop(0)\n",
    "        events.sort(key=lambda event:event.time)\n",
    "        \n",
    "    return times, queues"
   ]
  },
  {
   "cell_type": "code",
   "execution_count": 6,
   "metadata": {},
   "outputs": [],
   "source": [
    "def moving_mean_var(new_data, old_mean, old_var, t):\n",
    "    \"\"\" Calculates moving sameple mean and variance at time t.\n",
    "    \n",
    "    Keywords:\n",
    "        new_data (float): new data point arriving at time t.\n",
    "        old_mean (float): previous sample mean.\n",
    "        old_var (float): previous sample variance.\n",
    "        t (int): time index\n",
    "    \n",
    "    Returns:\n",
    "        new_mean (float): updated sample mean.\n",
    "        new_var (float): updated sample variance.\n",
    "    \"\"\"\n",
    "\n",
    "    if t == 1:\n",
    "        new_mean = new_data\n",
    "        new_var = 0\n",
    "    else:\n",
    "        new_mean = old_mean + (new_data - old_mean) / t\n",
    "        new_var = (1 - 1 / (t - 1)) * old_var + t * (new_mean - old_mean)**2\n",
    "    return new_mean, new_var"
   ]
  },
  {
   "cell_type": "markdown",
   "metadata": {},
   "source": [
    "### Independent runs"
   ]
  },
  {
   "cell_type": "code",
   "execution_count": 7,
   "metadata": {},
   "outputs": [],
   "source": [
    "#Requested precision for the estimation of the average maximum queue length. \n",
    "#Empirically calculated such that approximately 100 simulation runs are necessary.\n",
    "precision = 0.5\n",
    "\n",
    "max_queue_mean = 0\n",
    "max_queue_var = 0\n",
    "max_queue_all = []\n",
    "max_queue_mean_all = []\n",
    "max_queue_var_all = []\n",
    "run = 0\n",
    "\n",
    "scenario = Scenario()\n",
    "\n",
    "#Main loop\n",
    "while True:\n",
    "    run += 1\n",
    "    \n",
    "    #Run simulation\n",
    "    u = np.random.rand(3,1000)\n",
    "    _, queues = simulate(scenario, u)\n",
    "    max_queue = max(queues)\n",
    "    \n",
    "    #Collect statistics\n",
    "    max_queue_mean, max_queue_var = moving_mean_var(max_queue, max_queue_mean, max_queue_var, run)\n",
    "    max_queue_all.append(max_queue)\n",
    "    max_queue_mean_all.append(max_queue_mean)\n",
    "    max_queue_var_all.append(max_queue_var)\n",
    "    \n",
    "    #Check if necessary precision reached\n",
    "    if run >= 100 and np.sqrt(max_queue_var / run) < precision:\n",
    "        break\n",
    "        \n",
    "sd_independent = np.sqrt(max_queue_var_all)"
   ]
  },
  {
   "cell_type": "markdown",
   "metadata": {},
   "source": [
    "### Antithetic runs"
   ]
  },
  {
   "cell_type": "code",
   "execution_count": 8,
   "metadata": {},
   "outputs": [],
   "source": [
    "max_queue_mean = 0\n",
    "max_queue_var = 0\n",
    "max_queue_all = []\n",
    "max_queue_mean_all = []\n",
    "max_queue_var_all = []\n",
    "scenario = Scenario()\n",
    "\n",
    "#Main loop\n",
    "for j in np.arange(run / 2):\n",
    "    \n",
    "    # Run simulation (independent)\n",
    "    u = np.random.rand(3, 1000)\n",
    "    _, queues = simulate(scenario, u)\n",
    "    max_queue0 = max(queues)\n",
    "    \n",
    "    # Run simulation (antithetic)\n",
    "    u = 1 - u\n",
    "    _, queues = simulate(scenario, u)\n",
    "    max_queue1 = max(queues)\n",
    "    \n",
    "    # Collect statistics\n",
    "    max_queue = (max_queue0 + max_queue1) / 2\n",
    "    max_queue_mean, max_queue_var = moving_mean_var(max_queue, max_queue_mean, max_queue_var, j+1)\n",
    "    max_queue_all.append(max_queue)\n",
    "    max_queue_mean_all.append(max_queue_mean)\n",
    "    max_queue_var_all.append(max_queue_var)\n",
    "\n",
    "sd_antithetic = np.sqrt(max_queue_var_all)"
   ]
  },
  {
   "cell_type": "markdown",
   "metadata": {},
   "source": [
    "Plot the standard deviation of maximum queue length."
   ]
  },
  {
   "cell_type": "code",
   "execution_count": 9,
   "metadata": {},
   "outputs": [
    {
     "data": {
      "image/png": "[encoded data removed]",
      "text/plain": [
       "<Figure size 432x288 with 1 Axes>"
      ]
     },
     "metadata": {
      "needs_background": "light"
     },
     "output_type": "display_data"
    }
   ],
   "source": [
    "fig = plt.figure()\n",
    "ax = plt.subplot(1,1,1)\n",
    "\n",
    "ax.plot(sd_independent, label='Std. dev. - independent runs')\n",
    "ax.plot(np.arange(0,sd_independent.shape[0],2), sd_antithetic, label='Std. dev. - antithetic runs')\n",
    "ax.set(title='Queue simulation',\n",
    "       xlabel='Epoch',\n",
    "       ylabel='Max. queue length')\n",
    "ax.legend()\n",
    "#fig.savefig('figure_antithetic.pdf', dpi=300)\n",
    "plt.show()"
   ]
  },
  {
   "cell_type": "markdown",
   "metadata": {},
   "source": [
    "# Queueing simulation with control variates"
   ]
  },
  {
   "cell_type": "code",
   "execution_count": 10,
   "metadata": {},
   "outputs": [],
   "source": [
    "def controlled_mean(x, y, mu):\n",
    "    \"\"\" Calculates the controlled mean.\n",
    "    \n",
    "    Keywords:\n",
    "        x (array): Data.\n",
    "        y (array): Control data.\n",
    "        mu (float): Scalar expectation of the control data.\n",
    "    \n",
    "    Returns:\n",
    "        avg (float): Controlled mean of the data.\n",
    "        var (float): Variance of the controlled mean.\n",
    "        z (array): Optimal linear combination of the data and the control data. \n",
    "    \"\"\"\n",
    "\n",
    "    cov = np.cov(x, y)\n",
    "    cov_xy = cov[1, 0]\n",
    "    var_y = cov[1, 1]\n",
    "    \n",
    "    c = -cov_xy / var_y\n",
    "    z = x + c * (y - mu)\n",
    "    \n",
    "    avg = z.mean()\n",
    "    var = z.var()\n",
    "    \n",
    "    return avg, var, z"
   ]
  },
  {
   "cell_type": "code",
   "execution_count": 11,
   "metadata": {},
   "outputs": [],
   "source": [
    "def simulate(scenario):\n",
    "    \"\"\" Implements the simulation procedure.\n",
    "    \n",
    "    Keywords:\n",
    "        scenario (Scenario): Road scenario.\n",
    "    \n",
    "    Returns:\n",
    "        times (list): Event times. \n",
    "        queues (list): Queue length over time. \n",
    "        service_time_mean (float): Mean service time\n",
    "    \"\"\"\n",
    " \n",
    "    # Initialize the simulation\n",
    "    queue = 0\n",
    "    times = [0]\n",
    "    queues = [0]\n",
    "    service_times = []\n",
    "        \n",
    "    # Trigger the first events\n",
    "    generation = Generation(exponential_rng(scenario.lam, np.random.rand()))\n",
    "    termination = Termination(scenario.demand_duration)\n",
    "    events = [generation, termination]\n",
    "    \n",
    "    # Main loop\n",
    "    while len(events):\n",
    "        e = events[0]\n",
    "        \n",
    "        if isinstance(e, Generation):\n",
    "            # Schedule arrival of the vehicle\n",
    "            arrival = Arrival(e.time + scenario.t0 * np.random.rand())\n",
    "            events.append(arrival)\n",
    "            \n",
    "            # Schedule the next generation\n",
    "            next_generation_time = e.time + exponential_rng(scenario.lam, np.random.rand())\n",
    "            if next_generation_time<scenario.demand_duration:\n",
    "                generation=Generation(next_generation_time)\n",
    "                events.append(generation)\n",
    "\n",
    "        elif isinstance(e,Arrival):\n",
    "            times.append(e.time)\n",
    "            queue+=1\n",
    "            queues.append(queue)\n",
    "            \n",
    "            if queue==1:\n",
    "                service_time = exponential_rng(scenario.mu, np.random.rand())\n",
    "                service_times.append(service_time)\n",
    "                departure=Departure(e.time+service_time)\n",
    "                events.append(departure)\n",
    "        \n",
    "        elif isinstance(e,Departure):\n",
    "            times.append(e.time)\n",
    "            queue-=1\n",
    "            queues.append(queue)\n",
    "            \n",
    "            if queue:\n",
    "                service_time = exponential_rng(scenario.mu, np.random.rand())\n",
    "                service_times.append(service_time)\n",
    "                departure=Departure(e.time+service_time)\n",
    "                events.append(departure)\n",
    "                \n",
    "        elif isinstance(e,Termination):\n",
    "            pass\n",
    "        else:\n",
    "            raise('Unknown event type!')\n",
    "        \n",
    "        events.pop(0)\n",
    "        events.sort(key=lambda event:event.time)\n",
    "    \n",
    "    service_time_mean = np.array(service_times).mean()\n",
    "    return times, queues, service_time_mean"
   ]
  },
  {
   "cell_type": "code",
   "execution_count": 12,
   "metadata": {},
   "outputs": [],
   "source": [
    "#Requested precision for the estimation of the average maximum queue length. \n",
    "#Empirically calculated such that approximately 100 simulation runs are necessary.\n",
    "precision = 0.5\n",
    "\n",
    "max_queue_mean = 0\n",
    "max_queue_var = 0\n",
    "max_queue_all = []\n",
    "max_queue_mean_all = []\n",
    "max_queue_var_all = []\n",
    "\n",
    "service_time_mean_all = []\n",
    "max_queue_var_control_all = []\n",
    "\n",
    "scenario = Scenario()\n",
    "\n",
    "#Main loop\n",
    "for j in np.arange(run):\n",
    "    #Run simulation\n",
    "    _, queues, service_time_mean = simulate(scenario)\n",
    "    max_queue = max(queues)\n",
    "    service_time_mean_all.append(service_time_mean)\n",
    "    \n",
    "    #Collect statistics\n",
    "    max_queue_mean, max_queue_var = moving_mean_var(max_queue, max_queue_mean, max_queue_var, j+1)\n",
    "    max_queue_all.append(max_queue)\n",
    "    max_queue_mean_all.append(max_queue_mean)\n",
    "    max_queue_var_all.append(max_queue_var)\n",
    "    \n",
    "    #Control the maximum queue length\n",
    "    if j:\n",
    "        _, max_queue_var_control, _ = controlled_mean(\n",
    "            np.array(max_queue_all),\n",
    "            np.array(service_time_mean_all),\n",
    "            1 / scenario.mu\n",
    "        )\n",
    "    else:\n",
    "        max_queue_var_control = max_queue_var\n",
    "    max_queue_var_control_all.append(max_queue_var_control)\n",
    "\n",
    "sd_control = np.sqrt(max_queue_var_control_all)"
   ]
  },
  {
   "cell_type": "markdown",
   "metadata": {},
   "source": [
    "Information on correlation"
   ]
  },
  {
   "cell_type": "code",
   "execution_count": 13,
   "metadata": {},
   "outputs": [
    {
     "data": {
      "text/plain": [
       "array([[1.        , 0.41344345],\n",
       "       [0.41344345, 1.        ]])"
      ]
     },
     "execution_count": 13,
     "metadata": {},
     "output_type": "execute_result"
    }
   ],
   "source": [
    "np.corrcoef(service_time_mean_all, max_queue_all)"
   ]
  },
  {
   "cell_type": "code",
   "execution_count": 14,
   "metadata": {},
   "outputs": [
    {
     "data": {
      "image/png": "[encoded data removed]",
      "text/plain": [
       "<Figure size 432x288 with 1 Axes>"
      ]
     },
     "metadata": {
      "needs_background": "light"
     },
     "output_type": "display_data"
    }
   ],
   "source": [
    "fig = plt.figure()\n",
    "ax = plt.subplot(1,1,1)\n",
    "\n",
    "ax.plot(sd_independent, label='Std. dev. - independent runs')\n",
    "ax.plot(sd_control, label='Std. dev. - controlled runs')\n",
    "ax.set(title='Queue simulation',\n",
    "       xlabel='Epoch',\n",
    "       ylabel='Max. queue length')\n",
    "ax.legend()\n",
    "#fig.savefig('figure_control_variates.pdf', dpi=300)\n",
    "plt.show()"
   ]
  },
  {
   "cell_type": "code",
   "execution_count": null,
   "metadata": {},
   "outputs": [],
   "source": []
  }
 ],
 "metadata": {
  "kernelspec": {
   "display_name": "Python 3",
   "language": "python",
   "name": "python3"
  },
  "language_info": {
   "codemirror_mode": {
    "name": "ipython",
    "version": 3
   },
   "file_extension": ".py",
   "mimetype": "text/x-python",
   "name": "python",
   "nbconvert_exporter": "python",
   "pygments_lexer": "ipython3",
   "version": "3.9.2"
  }
 },
 "nbformat": 4,
 "nbformat_minor": 2
}
